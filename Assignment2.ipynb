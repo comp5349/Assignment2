{
 "cells": [
  {
   "cell_type": "markdown",
   "metadata": {},
   "source": [
    "# Comp5349 Assignment 2\n",
    "### Team member: Jiakun Yu, Zezheng Zhang, Yihong Wang, Yue Yang"
   ]
  },
  {
   "cell_type": "markdown",
   "metadata": {},
   "source": [
    "# Stage One: Overall statistics"
   ]
  },
  {
   "cell_type": "code",
   "execution_count": 1,
   "metadata": {},
   "outputs": [
    {
     "data": {
      "application/vnd.jupyter.widget-view+json": {
       "model_id": "71a5ed74a56e4a9fac0c56c15191e437",
       "version_major": 2,
       "version_minor": 0
      },
      "text/plain": [
       "VBox()"
      ]
     },
     "metadata": {},
     "output_type": "display_data"
    },
    {
     "name": "stdout",
     "output_type": "stream",
     "text": [
      "Starting Spark application\n"
     ]
    },
    {
     "data": {
      "text/html": [
       "<table>\n",
       "<tr><th>ID</th><th>YARN Application ID</th><th>Kind</th><th>State</th><th>Spark UI</th><th>Driver log</th><th>Current session?</th></tr><tr><td>5</td><td>application_1558489762291_0006</td><td>pyspark</td><td>idle</td><td><a target=\"_blank\" href=\"http://ip-172-31-11-239.ap-southeast-2.compute.internal:20888/proxy/application_1558489762291_0006/\">Link</a></td><td><a target=\"_blank\" href=\"http://ip-172-31-9-241.ap-southeast-2.compute.internal:8042/node/containerlogs/container_1558489762291_0006_01_000001/livy\">Link</a></td><td>✔</td></tr></table>"
      ],
      "text/plain": [
       "<IPython.core.display.HTML object>"
      ]
     },
     "metadata": {},
     "output_type": "display_data"
    },
    {
     "name": "stdout",
     "output_type": "stream",
     "text": [
      "SparkSession available as 'spark'.\n"
     ]
    }
   ],
   "source": [
    "# Import all necessary libraries and setup the environment for matplotlib\n",
    "from pyspark.sql import SparkSession\n",
    "from pyspark.ml.feature import Word2Vec\n",
    "from pyspark.sql.types import *\n",
    "from pyspark.sql.functions import udf, explode, split\n",
    "from pyspark.sql import functions as F\n",
    "import nltk\n",
    "import string\n",
    "import numpy as np"
   ]
  },
  {
   "cell_type": "code",
   "execution_count": 2,
   "metadata": {},
   "outputs": [
    {
     "data": {
      "application/vnd.jupyter.widget-view+json": {
       "model_id": "bf37b4338a31400bb4a489b369031584",
       "version_major": 2,
       "version_minor": 0
      },
      "text/plain": [
       "VBox()"
      ]
     },
     "metadata": {},
     "output_type": "display_data"
    }
   ],
   "source": [
    "spark = SparkSession \\\n",
    "    .builder \\\n",
    "    .appName(\"Assignment2\") \\\n",
    "    .getOrCreate()\n",
    "\n",
    "revs_data = \"s3://amazon-reviews-pds/tsv/amazon_reviews_us_Video_DVD_v1_00.tsv.gz\"\n",
    "revs = spark.read.csv(revs_data,header=True, sep='\\t').cache()"
   ]
  },
  {
   "cell_type": "code",
   "execution_count": 3,
   "metadata": {},
   "outputs": [
    {
     "data": {
      "application/vnd.jupyter.widget-view+json": {
       "model_id": "343f2bc3eb4d4863820a2127dfd91b21",
       "version_major": 2,
       "version_minor": 0
      },
      "text/plain": [
       "VBox()"
      ]
     },
     "metadata": {},
     "output_type": "display_data"
    },
    {
     "name": "stdout",
     "output_type": "stream",
     "text": [
      "root\n",
      " |-- marketplace: string (nullable = true)\n",
      " |-- customer_id: string (nullable = true)\n",
      " |-- review_id: string (nullable = true)\n",
      " |-- product_id: string (nullable = true)\n",
      " |-- product_parent: string (nullable = true)\n",
      " |-- product_title: string (nullable = true)\n",
      " |-- product_category: string (nullable = true)\n",
      " |-- star_rating: string (nullable = true)\n",
      " |-- helpful_votes: string (nullable = true)\n",
      " |-- total_votes: string (nullable = true)\n",
      " |-- vine: string (nullable = true)\n",
      " |-- verified_purchase: string (nullable = true)\n",
      " |-- review_headline: string (nullable = true)\n",
      " |-- review_body: string (nullable = true)\n",
      " |-- review_date: string (nullable = true)"
     ]
    }
   ],
   "source": [
    "revs.printSchema()"
   ]
  },
  {
   "cell_type": "code",
   "execution_count": 4,
   "metadata": {},
   "outputs": [
    {
     "data": {
      "application/vnd.jupyter.widget-view+json": {
       "model_id": "8305a4cf581d472ab6fe4ff260003113",
       "version_major": 2,
       "version_minor": 0
      },
      "text/plain": [
       "VBox()"
      ]
     },
     "metadata": {},
     "output_type": "display_data"
    },
    {
     "name": "stdout",
     "output_type": "stream",
     "text": [
      "Row(marketplace='US', customer_id='27288431', review_id='R33UPQQUZQEM8', product_id='B005T4ND06', product_parent='400024643', product_title=\"Yoga for Movement Disorders DVD: Rebuilding Strength, Balance, and Flexibility for Parkinson's Disease and Dystonia\", product_category='Video DVD', star_rating='5', helpful_votes='3', total_votes='3', vine='N', verified_purchase='Y', review_headline=\"This was a gift for my aunt who has Parkinson's ...\", review_body=\"This was a gift for my aunt who has Parkinson's.  While I have not previewed it myself, I also have not gotten any complaints.  My prior experiences with yoga tell me this should be just what the doctor ordered.\", review_date='2015-08-31')"
     ]
    }
   ],
   "source": [
    "revs.head()"
   ]
  },
  {
   "cell_type": "markdown",
   "metadata": {},
   "source": [
    "#### The Total number of reviews"
   ]
  },
  {
   "cell_type": "code",
   "execution_count": 5,
   "metadata": {},
   "outputs": [
    {
     "data": {
      "application/vnd.jupyter.widget-view+json": {
       "model_id": "3cb6fdede0b14affb0a4104d43b95572",
       "version_major": 2,
       "version_minor": 0
      },
      "text/plain": [
       "VBox()"
      ]
     },
     "metadata": {},
     "output_type": "display_data"
    },
    {
     "name": "stdout",
     "output_type": "stream",
     "text": [
      "5069140"
     ]
    }
   ],
   "source": [
    "revs.count()"
   ]
  },
  {
   "cell_type": "markdown",
   "metadata": {},
   "source": [
    "#### The number of unique users"
   ]
  },
  {
   "cell_type": "code",
   "execution_count": 6,
   "metadata": {},
   "outputs": [
    {
     "data": {
      "application/vnd.jupyter.widget-view+json": {
       "model_id": "f1047934ea224f9684776348d51be2d8",
       "version_major": 2,
       "version_minor": 0
      },
      "text/plain": [
       "VBox()"
      ]
     },
     "metadata": {},
     "output_type": "display_data"
    },
    {
     "name": "stdout",
     "output_type": "stream",
     "text": [
      "2075970"
     ]
    }
   ],
   "source": [
    "revs.select('customer_id').distinct().count()"
   ]
  },
  {
   "cell_type": "markdown",
   "metadata": {},
   "source": [
    "#### The number of unique products"
   ]
  },
  {
   "cell_type": "code",
   "execution_count": 7,
   "metadata": {},
   "outputs": [
    {
     "data": {
      "application/vnd.jupyter.widget-view+json": {
       "model_id": "f583bc7b89164113b4f0b02ec262c283",
       "version_major": 2,
       "version_minor": 0
      },
      "text/plain": [
       "VBox()"
      ]
     },
     "metadata": {},
     "output_type": "display_data"
    },
    {
     "name": "stdout",
     "output_type": "stream",
     "text": [
      "297919"
     ]
    }
   ],
   "source": [
    "revs.select('product_id').distinct().count()"
   ]
  },
  {
   "cell_type": "markdown",
   "metadata": {},
   "source": [
    "## User-review distribution"
   ]
  },
  {
   "cell_type": "code",
   "execution_count": 8,
   "metadata": {},
   "outputs": [
    {
     "data": {
      "application/vnd.jupyter.widget-view+json": {
       "model_id": "32d33ce2366840c59730279acfd67961",
       "version_major": 2,
       "version_minor": 0
      },
      "text/plain": [
       "VBox()"
      ]
     },
     "metadata": {},
     "output_type": "display_data"
    }
   ],
   "source": [
    "customer_review_count = revs.groupby('customer_id').count().cache()"
   ]
  },
  {
   "cell_type": "markdown",
   "metadata": {},
   "source": [
    "#### (The largest number of reviews published by a single user) and (The top 10 users ranked by the number)"
   ]
  },
  {
   "cell_type": "code",
   "execution_count": 9,
   "metadata": {},
   "outputs": [
    {
     "data": {
      "application/vnd.jupyter.widget-view+json": {
       "model_id": "ecab39760f174b9ba4a6cfb9236c2cf4",
       "version_major": 2,
       "version_minor": 0
      },
      "text/plain": [
       "VBox()"
      ]
     },
     "metadata": {},
     "output_type": "display_data"
    },
    {
     "name": "stdout",
     "output_type": "stream",
     "text": [
      "+-----------+-----+\n",
      "|customer_id|count|\n",
      "+-----------+-----+\n",
      "|   43430756| 3582|\n",
      "|   18116317| 2987|\n",
      "|   52287429| 2747|\n",
      "|   52496677| 2650|\n",
      "|   51110953| 2624|\n",
      "|   19792742| 2495|\n",
      "|   20018062| 2492|\n",
      "|   50068216| 2379|\n",
      "|   14539589| 2269|\n",
      "|   50881246| 2104|\n",
      "+-----------+-----+\n",
      "only showing top 10 rows"
     ]
    }
   ],
   "source": [
    "customer_review_count.orderBy('count', ascending=False).show(10)"
   ]
  },
  {
   "cell_type": "markdown",
   "metadata": {},
   "source": [
    "#### The median number of reviews published by a user"
   ]
  },
  {
   "cell_type": "code",
   "execution_count": 10,
   "metadata": {},
   "outputs": [
    {
     "data": {
      "application/vnd.jupyter.widget-view+json": {
       "model_id": "81bc0f9e812e4d788841236d0a1df2c0",
       "version_major": 2,
       "version_minor": 0
      },
      "text/plain": [
       "VBox()"
      ]
     },
     "metadata": {},
     "output_type": "display_data"
    },
    {
     "name": "stdout",
     "output_type": "stream",
     "text": [
      "[1.0]"
     ]
    }
   ],
   "source": [
    "user_count_median = customer_review_count.approxQuantile(col='count', probabilities=[0.5], relativeError=0)\n",
    "user_count_median"
   ]
  },
  {
   "cell_type": "markdown",
   "metadata": {},
   "source": [
    "## Product-review distribution"
   ]
  },
  {
   "cell_type": "code",
   "execution_count": 11,
   "metadata": {},
   "outputs": [
    {
     "data": {
      "application/vnd.jupyter.widget-view+json": {
       "model_id": "ca01089da0034fffa33ed545e9eaf42f",
       "version_major": 2,
       "version_minor": 0
      },
      "text/plain": [
       "VBox()"
      ]
     },
     "metadata": {},
     "output_type": "display_data"
    }
   ],
   "source": [
    "product_review_count = revs.groupby('product_id').count().cache()"
   ]
  },
  {
   "cell_type": "markdown",
   "metadata": {},
   "source": [
    "#### (The largest number of reviews written for a single product) and (The top 10 products ranked by the number of reviews)"
   ]
  },
  {
   "cell_type": "code",
   "execution_count": 12,
   "metadata": {},
   "outputs": [
    {
     "data": {
      "application/vnd.jupyter.widget-view+json": {
       "model_id": "6779fba36eac40d58455ea557705ced6",
       "version_major": 2,
       "version_minor": 0
      },
      "text/plain": [
       "VBox()"
      ]
     },
     "metadata": {},
     "output_type": "display_data"
    },
    {
     "name": "stdout",
     "output_type": "stream",
     "text": [
      "+----------+-----+\n",
      "|product_id|count|\n",
      "+----------+-----+\n",
      "|B00127RAJY| 4969|\n",
      "|B0000AQS0F| 4967|\n",
      "|B00G5G7K7O| 4439|\n",
      "|B0002IQJ96| 4409|\n",
      "|B00G5G7EXY| 4207|\n",
      "|B003ZSJ212| 3641|\n",
      "|B000X9FLKM| 3414|\n",
      "|B000K8LV1O| 2989|\n",
      "|B00N1JQ2UO| 2476|\n",
      "|B00AMR5LZA| 2253|\n",
      "+----------+-----+\n",
      "only showing top 10 rows"
     ]
    }
   ],
   "source": [
    "product_review_count.orderBy('count', ascending=False).show(10)"
   ]
  },
  {
   "cell_type": "markdown",
   "metadata": {},
   "source": [
    "#### The median number of reviews a product has"
   ]
  },
  {
   "cell_type": "code",
   "execution_count": 13,
   "metadata": {},
   "outputs": [
    {
     "data": {
      "application/vnd.jupyter.widget-view+json": {
       "model_id": "cbb51d7443a047f79630b901408c653a",
       "version_major": 2,
       "version_minor": 0
      },
      "text/plain": [
       "VBox()"
      ]
     },
     "metadata": {},
     "output_type": "display_data"
    },
    {
     "name": "stdout",
     "output_type": "stream",
     "text": [
      "[3.0]"
     ]
    }
   ],
   "source": [
    "product_count_median = product_review_count.approxQuantile(col='count', probabilities=[0.5], relativeError=0)\n",
    "product_count_median"
   ]
  },
  {
   "cell_type": "markdown",
   "metadata": {},
   "source": [
    "# Stage Two: Filtering Unwanted Data"
   ]
  },
  {
   "cell_type": "code",
   "execution_count": 14,
   "metadata": {},
   "outputs": [
    {
     "data": {
      "application/vnd.jupyter.widget-view+json": {
       "model_id": "858b148c494b4bf6be74c4bbb176e7c6",
       "version_major": 2,
       "version_minor": 0
      },
      "text/plain": [
       "VBox()"
      ]
     },
     "metadata": {},
     "output_type": "display_data"
    }
   ],
   "source": [
    "def sent_TokenizeFunct(x):\n",
    "    if(not x):\n",
    "        sentences = ''\n",
    "    else:\n",
    "        sentences=x.lower()\n",
    "        sentences = nltk.sent_tokenize(sentences)\n",
    "    return len(sentences)"
   ]
  },
  {
   "cell_type": "code",
   "execution_count": 15,
   "metadata": {},
   "outputs": [
    {
     "data": {
      "application/vnd.jupyter.widget-view+json": {
       "model_id": "0922558780a247d3a32825460e1a4f0a",
       "version_major": 2,
       "version_minor": 0
      },
      "text/plain": [
       "VBox()"
      ]
     },
     "metadata": {},
     "output_type": "display_data"
    }
   ],
   "source": [
    "slen = udf(sent_TokenizeFunct, IntegerType())"
   ]
  },
  {
   "cell_type": "code",
   "execution_count": 16,
   "metadata": {},
   "outputs": [
    {
     "data": {
      "application/vnd.jupyter.widget-view+json": {
       "model_id": "9cd55bf684234bdf8ace6825add30b1e",
       "version_major": 2,
       "version_minor": 0
      },
      "text/plain": [
       "VBox()"
      ]
     },
     "metadata": {},
     "output_type": "display_data"
    }
   ],
   "source": [
    "revs_with_TokenLength = revs.withColumn(\"TokenLength\", slen(\"review_body\"))\n",
    "filtered_revs1 = revs_with_TokenLength.filter(\"TokenLength> 1\")\n",
    "customer_review_count = customer_review_count.filter(\"count> 1\")\n",
    "product_review_count = product_review_count.filter(\"count> 3\")"
   ]
  },
  {
   "cell_type": "code",
   "execution_count": 17,
   "metadata": {},
   "outputs": [
    {
     "data": {
      "application/vnd.jupyter.widget-view+json": {
       "model_id": "58e42cb33a34404cb4a62607468c2cdb",
       "version_major": 2,
       "version_minor": 0
      },
      "text/plain": [
       "VBox()"
      ]
     },
     "metadata": {},
     "output_type": "display_data"
    }
   ],
   "source": [
    "filtered_revs2 = filtered_revs1.join(product_review_count, 'product_id', 'inner') \\\n",
    "                                    .drop(\"count\")\n",
    "\n",
    "final = filtered_revs2.join(customer_review_count, 'customer_id', 'inner') \\\n",
    "                                .drop(\"count\").cache()"
   ]
  },
  {
   "cell_type": "code",
   "execution_count": 18,
   "metadata": {},
   "outputs": [
    {
     "data": {
      "application/vnd.jupyter.widget-view+json": {
       "model_id": "b0d2d267b9f64cb0b8eb31d7a7a78959",
       "version_major": 2,
       "version_minor": 0
      },
      "text/plain": [
       "VBox()"
      ]
     },
     "metadata": {},
     "output_type": "display_data"
    },
    {
     "name": "stdout",
     "output_type": "stream",
     "text": [
      "2704735\n",
      "----------------------------------------\n",
      "Exception happened during processing of request from ('127.0.0.1', 50252)\n",
      "Traceback (most recent call last):\n",
      "  File \"/usr/lib64/python3.6/socketserver.py\", line 320, in _handle_request_noblock\n",
      "    self.process_request(request, client_address)\n",
      "  File \"/usr/lib64/python3.6/socketserver.py\", line 351, in process_request\n",
      "    self.finish_request(request, client_address)\n",
      "  File \"/usr/lib64/python3.6/socketserver.py\", line 364, in finish_request\n",
      "    self.RequestHandlerClass(request, client_address, self)\n",
      "  File \"/usr/lib64/python3.6/socketserver.py\", line 724, in __init__\n",
      "    self.handle()\n",
      "  File \"/usr/lib/spark/python/lib/pyspark.zip/pyspark/accumulators.py\", line 266, in handle\n",
      "    poll(authenticate_and_accum_updates)\n",
      "  File \"/usr/lib/spark/python/lib/pyspark.zip/pyspark/accumulators.py\", line 241, in poll\n",
      "    if func():\n",
      "  File \"/usr/lib/spark/python/lib/pyspark.zip/pyspark/accumulators.py\", line 254, in authenticate_and_accum_updates\n",
      "    received_token = self.rfile.read(len(auth_token))\n",
      "TypeError: object of type 'NoneType' has no len()\n",
      "----------------------------------------"
     ]
    }
   ],
   "source": [
    "final.count()"
   ]
  },
  {
   "cell_type": "code",
   "execution_count": 19,
   "metadata": {},
   "outputs": [
    {
     "data": {
      "application/vnd.jupyter.widget-view+json": {
       "model_id": "e725c1732bc1475799dc041100b71f37",
       "version_major": 2,
       "version_minor": 0
      },
      "text/plain": [
       "VBox()"
      ]
     },
     "metadata": {},
     "output_type": "display_data"
    }
   ],
   "source": [
    "#final.show(10)"
   ]
  },
  {
   "cell_type": "code",
   "execution_count": 20,
   "metadata": {},
   "outputs": [
    {
     "data": {
      "application/vnd.jupyter.widget-view+json": {
       "model_id": "15f34b1709154d1eb5f35ed2cd3e4a3e",
       "version_major": 2,
       "version_minor": 0
      },
      "text/plain": [
       "VBox()"
      ]
     },
     "metadata": {},
     "output_type": "display_data"
    },
    {
     "name": "stdout",
     "output_type": "stream",
     "text": [
      "+-----------+---------------+\n",
      "|customer_id|med_TokenLength|\n",
      "+-----------+---------------+\n",
      "|   11449554|            317|\n",
      "|   18288540|            278|\n",
      "|   47939538|            273|\n",
      "|   51622006|            233|\n",
      "|   24142448|            218|\n",
      "|   51722321|            189|\n",
      "|   39452841|            180|\n",
      "|   24972624|            174|\n",
      "|   32704480|            170|\n",
      "|   46401180|            166|\n",
      "+-----------+---------------+\n",
      "only showing top 10 rows"
     ]
    }
   ],
   "source": [
    "magic_percentile = F.expr('percentile_approx(TokenLength, 0.5)')\n",
    "\n",
    "top_10_users = final.groupby(\"customer_id\").agg(magic_percentile.alias(\"med_TokenLength\")) \\\n",
    "                .orderBy('med_TokenLength', ascending=False)\n",
    "top_10_users.show(10)"
   ]
  },
  {
   "cell_type": "code",
   "execution_count": 21,
   "metadata": {},
   "outputs": [
    {
     "data": {
      "application/vnd.jupyter.widget-view+json": {
       "model_id": "485ecf06a4284445acaf6287400fa449",
       "version_major": 2,
       "version_minor": 0
      },
      "text/plain": [
       "VBox()"
      ]
     },
     "metadata": {},
     "output_type": "display_data"
    },
    {
     "name": "stdout",
     "output_type": "stream",
     "text": [
      "+----------+---------------+\n",
      "|product_id|med_TokenLength|\n",
      "+----------+---------------+\n",
      "|B00U0WY2J8|            149|\n",
      "|B000085EEJ|            136|\n",
      "|B0000C0YMR|            132|\n",
      "|B00RNTYI3G|            118|\n",
      "|B00BGWDYNQ|            102|\n",
      "|B002LMOCJA|             98|\n",
      "|B0040BJH7C|             97|\n",
      "|B007G17FYK|             89|\n",
      "|B003H5HGCU|             87|\n",
      "|B004X6JB98|             85|\n",
      "+----------+---------------+\n",
      "only showing top 10 rows"
     ]
    }
   ],
   "source": [
    "top_10_products = final.groupby(\"product_id\").agg(magic_percentile.alias(\"med_TokenLength\")) \\\n",
    "                .orderBy('med_TokenLength', ascending=False)\n",
    "top_10_products.show(10)"
   ]
  },
  {
   "cell_type": "markdown",
   "metadata": {},
   "source": [
    "# Stage Three: Similarity analysis with Sentence Em-bedding"
   ]
  },
  {
   "cell_type": "markdown",
   "metadata": {},
   "source": [
    "## Positive vs. Negative Reviews"
   ]
  },
  {
   "cell_type": "code",
   "execution_count": 22,
   "metadata": {},
   "outputs": [
    {
     "data": {
      "application/vnd.jupyter.widget-view+json": {
       "model_id": "6e8eabb7172943d0835477afa96ca03d",
       "version_major": 2,
       "version_minor": 0
      },
      "text/plain": [
       "VBox()"
      ]
     },
     "metadata": {},
     "output_type": "display_data"
    }
   ],
   "source": [
    "product = revs.filter(revs.product_id == 'B00AMR5LZA') \\\n",
    "                    .select('customer_id','review_id','star_rating','review_body').cache()\n",
    "#product.count()\n",
    "#product.show()"
   ]
  },
  {
   "cell_type": "code",
   "execution_count": 23,
   "metadata": {},
   "outputs": [
    {
     "data": {
      "application/vnd.jupyter.widget-view+json": {
       "model_id": "3c50c696f77f45a9b4d1d4a06355352d",
       "version_major": 2,
       "version_minor": 0
      },
      "text/plain": [
       "VBox()"
      ]
     },
     "metadata": {},
     "output_type": "display_data"
    }
   ],
   "source": [
    "def sent_Tokenize(x):\n",
    "    if(not x):\n",
    "        sentences = ''\n",
    "    else:\n",
    "        sentences=x.lower()\n",
    "        sentences = nltk.sent_tokenize(sentences)\n",
    "    return sentences\n",
    "s_Tokenize = udf(sent_Tokenize, ArrayType(StringType()))"
   ]
  },
  {
   "cell_type": "code",
   "execution_count": 24,
   "metadata": {},
   "outputs": [
    {
     "data": {
      "application/vnd.jupyter.widget-view+json": {
       "model_id": "0ee959ea9ed14869a004dc70b8b1dc0e",
       "version_major": 2,
       "version_minor": 0
      },
      "text/plain": [
       "VBox()"
      ]
     },
     "metadata": {},
     "output_type": "display_data"
    }
   ],
   "source": [
    "# pos_class = product.filter(\"star_rating >= 4\") \\\n",
    "#                    .withColumn(\"segmentation\", split(\"review_body\", '\\. |\\! |\\? ')).drop(\"review_body\")\n",
    "# neg_class = product.filter(\"star_rating <= 2\") \\\n",
    "#                    .withColumn(\"segmentation\", split(\"review_body\", '\\. |\\! |\\? ')).drop(\"review_body\")\n",
    "\n",
    "pos_class = product.filter(\"star_rating >= 4\") \\\n",
    "                   .withColumn(\"segmentation\", s_Tokenize(\"review_body\")).drop(\"review_body\")\n",
    "neg_class = product.filter(\"star_rating <= 2\") \\\n",
    "                   .withColumn(\"segmentation\", s_Tokenize(\"review_body\")).drop(\"review_body\")"
   ]
  },
  {
   "cell_type": "code",
   "execution_count": 25,
   "metadata": {},
   "outputs": [
    {
     "data": {
      "application/vnd.jupyter.widget-view+json": {
       "model_id": "45f2cab0f95a4753a13ebb9af453cbac",
       "version_major": 2,
       "version_minor": 0
      },
      "text/plain": [
       "VBox()"
      ]
     },
     "metadata": {},
     "output_type": "display_data"
    }
   ],
   "source": [
    "seg_pos = pos_class.withColumn(\"seg\",explode(\"segmentation\")).select(\"seg\",\"review_id\")\n",
    "seg_neg = neg_class.withColumn(\"seg\",explode(\"segmentation\")).select(\"seg\",\"review_id\")"
   ]
  },
  {
   "cell_type": "code",
   "execution_count": 26,
   "metadata": {},
   "outputs": [
    {
     "data": {
      "application/vnd.jupyter.widget-view+json": {
       "model_id": "edfd7602dd274483b4dced31ded01b27",
       "version_major": 2,
       "version_minor": 0
      },
      "text/plain": [
       "VBox()"
      ]
     },
     "metadata": {},
     "output_type": "display_data"
    }
   ],
   "source": [
    "import tensorflow as tf\n",
    "import tensorflow_hub as hub\n",
    "\n",
    "def review_embed(rev_text_partition):\n",
    "    module_url = \"https://tfhub.dev/google/universal-sentence-encoder/2\" #@param [\"https://tfhub.dev/google/universal-sentence-encoder/2\", \"https://tfhub.dev/google/universal-sentence-encoder-large/3\"]\n",
    "    embed = hub.Module(module_url)\n",
    "    # mapPartition would supply element inside a partition using generator stype\n",
    "    # this does not fit tensorflow stype\n",
    "    rev_text_list = [text for text in rev_text_partition]\n",
    "    with tf.Session() as session:\n",
    "        session.run([tf.global_variables_initializer(), tf.tables_initializer()])\n",
    "        message_embeddings = session.run(embed(rev_text_list))\n",
    "    return message_embeddings"
   ]
  },
  {
   "cell_type": "code",
   "execution_count": 27,
   "metadata": {},
   "outputs": [
    {
     "data": {
      "application/vnd.jupyter.widget-view+json": {
       "model_id": "c4e61a9e3b344d6c96d6e58ec0e4a64e",
       "version_major": 2,
       "version_minor": 0
      },
      "text/plain": [
       "VBox()"
      ]
     },
     "metadata": {},
     "output_type": "display_data"
    }
   ],
   "source": [
    "pos_class_map = seg_pos.rdd.filter(lambda row: len(str(row[0]))>5).cache()\n",
    "pos_class_rdd = pos_class_map.map(lambda row: str(row[0])).cache()\n",
    "pos_review_embedding = pos_class_rdd.mapPartitions(review_embed)"
   ]
  },
  {
   "cell_type": "code",
   "execution_count": null,
   "metadata": {},
   "outputs": [],
   "source": []
  },
  {
   "cell_type": "code",
   "execution_count": 28,
   "metadata": {},
   "outputs": [
    {
     "data": {
      "application/vnd.jupyter.widget-view+json": {
       "model_id": "904ba7a0d1b6492a8465be714b56b512",
       "version_major": 2,
       "version_minor": 0
      },
      "text/plain": [
       "VBox()"
      ]
     },
     "metadata": {},
     "output_type": "display_data"
    }
   ],
   "source": [
    "neg_class_map = seg_neg.rdd.filter(lambda row: len(str(row[0]))>5).cache()\n",
    "neg_class_rdd = neg_class_map.map(lambda row: str(row[0])).cache()\n",
    "neg_review_embedding = neg_class_rdd.mapPartitions(review_embed)"
   ]
  },
  {
   "cell_type": "markdown",
   "metadata": {},
   "source": [
    "## Intra-Class Similarity"
   ]
  },
  {
   "cell_type": "code",
   "execution_count": 29,
   "metadata": {},
   "outputs": [
    {
     "data": {
      "application/vnd.jupyter.widget-view+json": {
       "model_id": "4e4a396ccc8b4c4dbdde9ed8699c39b3",
       "version_major": 2,
       "version_minor": 0
      },
      "text/plain": [
       "VBox()"
      ]
     },
     "metadata": {},
     "output_type": "display_data"
    }
   ],
   "source": [
    "def Cosine_distance(x):\n",
    "    a = x[0][0]\n",
    "    a_id = x[0][1]\n",
    "    b = x[1][0]\n",
    "    b_id = x[1][1]\n",
    "\n",
    "    return ((a_id,b_id), 1 - (a@b)/np.sqrt(((a@a)*(b@b))))"
   ]
  },
  {
   "cell_type": "markdown",
   "metadata": {},
   "source": [
    "##### Positive Class"
   ]
  },
  {
   "cell_type": "code",
   "execution_count": 30,
   "metadata": {},
   "outputs": [
    {
     "data": {
      "application/vnd.jupyter.widget-view+json": {
       "model_id": "9369cf4a812c43b7a821ea8f8781fc5a",
       "version_major": 2,
       "version_minor": 0
      },
      "text/plain": [
       "VBox()"
      ]
     },
     "metadata": {},
     "output_type": "display_data"
    }
   ],
   "source": [
    "pos_id = pos_review_embedding.zipWithIndex().cache()\n",
    "cartesian_rdd = pos_id.cartesian(pos_id).map(Cosine_distance).cache()\n",
    "#cartesian_rdd.getNumPartitions()\n",
    "#cartesian_rdd.count()\n",
    "average_distance = cartesian_rdd \\\n",
    "                    .map(lambda v: (v[0][0], (v[1], 1))) \\\n",
    "                    .reduceByKey(lambda a,b: (a[0]+b[0], a[1]+b[1])) \\\n",
    "                    .mapValues(lambda v: v[0]/(v[1]-1)).cache()\n",
    "#average_distance.count()\n",
    "#average_distance.getNumPartitions()"
   ]
  },
  {
   "cell_type": "markdown",
   "metadata": {},
   "source": [
    "##### Negative Class"
   ]
  },
  {
   "cell_type": "code",
   "execution_count": 31,
   "metadata": {},
   "outputs": [
    {
     "data": {
      "application/vnd.jupyter.widget-view+json": {
       "model_id": "c6b9bb27afae4311b65071db40311659",
       "version_major": 2,
       "version_minor": 0
      },
      "text/plain": [
       "VBox()"
      ]
     },
     "metadata": {},
     "output_type": "display_data"
    }
   ],
   "source": [
    "neg_id = neg_review_embedding.zipWithIndex().cache()\n",
    "neg_cartesian_rdd = neg_id.cartesian(neg_id).map(Cosine_distance).cache()\n",
    "neg_average_distance = neg_cartesian_rdd \\\n",
    "                    .map(lambda v: (v[0][0], (v[1], 1))) \\\n",
    "                    .reduceByKey(lambda a,b: (a[0]+b[0], a[1]+b[1])) \\\n",
    "                    .mapValues(lambda v: v[0]/(v[1]-1)).cache()"
   ]
  },
  {
   "cell_type": "markdown",
   "metadata": {},
   "source": [
    "## Class Center Sentences"
   ]
  },
  {
   "cell_type": "markdown",
   "metadata": {},
   "source": [
    "##### Positive Class"
   ]
  },
  {
   "cell_type": "code",
   "execution_count": 32,
   "metadata": {
    "scrolled": false
   },
   "outputs": [
    {
     "data": {
      "application/vnd.jupyter.widget-view+json": {
       "model_id": "9fd6aeca868b44cebc5a5e0ef511619a",
       "version_major": 2,
       "version_minor": 0
      },
      "text/plain": [
       "VBox()"
      ]
     },
     "metadata": {},
     "output_type": "display_data"
    },
    {
     "name": "stdout",
     "output_type": "stream",
     "text": [
      "The Class_Center and its average dis is: [(3072, 0.56196239992007)]\n",
      "The Closeness is: 0.7074424467782419"
     ]
    }
   ],
   "source": [
    "Points_num = average_distance.count()\n",
    "Class_Center = average_distance.takeOrdered(1,lambda x: x[1])\n",
    "print('The Class_Center and its average dis is:', Class_Center)\n",
    "closeness = average_distance.map(lambda x: x[1]).sum()/Points_num\n",
    "print('The Closeness is:', closeness)"
   ]
  },
  {
   "cell_type": "code",
   "execution_count": 33,
   "metadata": {},
   "outputs": [
    {
     "data": {
      "application/vnd.jupyter.widget-view+json": {
       "model_id": "9b9de2ecc90e49168899282034c11249",
       "version_major": 2,
       "version_minor": 0
      },
      "text/plain": [
       "VBox()"
      ]
     },
     "metadata": {},
     "output_type": "display_data"
    },
    {
     "name": "stdout",
     "output_type": "stream",
     "text": [
      "10 closest neighbours and its average distance:\n",
      "[((3072, 5085), 0.06863468885421753), ((3072, 2936), 0.08381921052932739), ((3072, 277), 0.09751492738723755), ((3072, 3547), 0.10153257846832275), ((3072, 237), 0.11305892467498779), ((3072, 1913), 0.11406934261322021), ((3072, 1908), 0.1177402138710022), ((3072, 4321), 0.11930060386657715), ((3072, 4812), 0.12375795841217041), ((3072, 303), 0.12446123361587524)]"
     ]
    }
   ],
   "source": [
    "Class_Center_index = Class_Center[0][0]\n",
    "Class_Center_dis = Class_Center[0][1]\n",
    "ten_closest_neighbours = cartesian_rdd \\\n",
    "                        .filter(lambda x: ((x[0][0]==Class_Center_index) and (x[0][1]!=Class_Center_index))) \\\n",
    "                        .takeOrdered(10,lambda x: x[1])\n",
    "print('10 closest neighbours and its average distance:')\n",
    "print(ten_closest_neighbours)"
   ]
  },
  {
   "cell_type": "code",
   "execution_count": 34,
   "metadata": {},
   "outputs": [
    {
     "data": {
      "application/vnd.jupyter.widget-view+json": {
       "model_id": "1015f76f47a14e7c80faf836f50cce51",
       "version_major": 2,
       "version_minor": 0
      },
      "text/plain": [
       "VBox()"
      ]
     },
     "metadata": {},
     "output_type": "display_data"
    },
    {
     "name": "stdout",
     "output_type": "stream",
     "text": [
      "Positive Class Center:\n",
      "\n",
      " R3G3KHQ43Y860A: this is the best bible movie ever made!\n",
      "\n",
      "\n",
      "10 closest neighbours:\n",
      "\n",
      "RVJRVW37VK5HJ: this is the best bible movie i had ever seen i had seen a lot of bible movies but this is the best\n",
      "RPHGQC7A7NZHG: one of the best made movie versions of the bible yet.\n",
      "RRX99ACI7D1QI: of all the bible based films, this was my favorite jesus.\n",
      "R1P0X6G9JNUSHN: truly a great movie about the bible.\n",
      "R2A85C5IBC5LVH: one of the most incredible movies out there about the bible!\n",
      "RFQSUAJDSY6SW: this is one of the best movies that depict the stories of the bible.\n",
      "R1VV03CKEK08I0: this mini series is one if the best bible movies made.\n",
      "R1NRPFNQIG56FX: it is one of the best bible stories ever depicted on movie setting if not the best.\n",
      "R3NFXPKKG26EYT: of all of the biblical movies i've seen, this by far is the best one yet.\n",
      "RC0FZ9SNACXIG: fantastic movie for bible lovers."
     ]
    }
   ],
   "source": [
    "sent_map = pos_id.map(lambda x: x[1]).zip(pos_class_map).collectAsMap()\n",
    "print('Positive Class Center:\\n\\n',sent_map[Class_Center_index][1]+\":\",sent_map[Class_Center_index][0])\n",
    "print('\\n\\n10 closest neighbours:\\n')\n",
    "for i in range(10):\n",
    "    print(sent_map[ten_closest_neighbours[i][0][1]][1]+\":\",sent_map[ten_closest_neighbours[i][0][1]][0])"
   ]
  },
  {
   "cell_type": "markdown",
   "metadata": {},
   "source": [
    "##### Negative Class"
   ]
  },
  {
   "cell_type": "code",
   "execution_count": 35,
   "metadata": {},
   "outputs": [
    {
     "data": {
      "application/vnd.jupyter.widget-view+json": {
       "model_id": "cbba49738e104c7681fea830e0a2e2a3",
       "version_major": 2,
       "version_minor": 0
      },
      "text/plain": [
       "VBox()"
      ]
     },
     "metadata": {},
     "output_type": "display_data"
    },
    {
     "name": "stdout",
     "output_type": "stream",
     "text": [
      "The Class_Center and its average dis is: [(1088, 0.5773194194771349)]\n",
      "The Closeness is: 0.7322638106126443"
     ]
    }
   ],
   "source": [
    "Points_num = neg_average_distance.count()\n",
    "neg_Class_Center = neg_average_distance.takeOrdered(1,lambda x: x[1])\n",
    "print('The Class_Center and its average dis is:', neg_Class_Center)\n",
    "closeness = neg_average_distance.map(lambda x: x[1]).sum()/Points_num\n",
    "print('The Closeness is:', closeness)"
   ]
  },
  {
   "cell_type": "code",
   "execution_count": 36,
   "metadata": {},
   "outputs": [
    {
     "data": {
      "application/vnd.jupyter.widget-view+json": {
       "model_id": "1767453cd0ab44c690fde65f49bea66c",
       "version_major": 2,
       "version_minor": 0
      },
      "text/plain": [
       "VBox()"
      ]
     },
     "metadata": {},
     "output_type": "display_data"
    },
    {
     "name": "stdout",
     "output_type": "stream",
     "text": [
      "10 closest neighbours and its average distance:\n",
      "[((1088, 864), 0.17561036348342896), ((1088, 1222), 0.19217908382415771), ((1088, 1221), 0.19503241777420044), ((1088, 424), 0.19555699825286865), ((1088, 186), 0.20735925436019897), ((1088, 1122), 0.21118015050888062), ((1088, 1270), 0.21852785348892212), ((1088, 900), 0.22103667259216309), ((1088, 512), 0.22542214393615723), ((1088, 674), 0.22580265998840332)]"
     ]
    }
   ],
   "source": [
    "neg_Class_Center_index = neg_Class_Center[0][0]\n",
    "neg_Class_Center_dis = neg_Class_Center[0][1]\n",
    "neg_ten_closest_neighbours = neg_cartesian_rdd \\\n",
    "                        .filter(lambda x: ((x[0][0]==neg_Class_Center_index) and (x[0][1]!=neg_Class_Center_index))) \\\n",
    "                        .takeOrdered(10,lambda x: x[1])\n",
    "\n",
    "print('10 closest neighbours and its average distance:')\n",
    "print(neg_ten_closest_neighbours)"
   ]
  },
  {
   "cell_type": "code",
   "execution_count": 37,
   "metadata": {},
   "outputs": [
    {
     "data": {
      "application/vnd.jupyter.widget-view+json": {
       "model_id": "e271cf35af7e4af7b3a83132df5bb393",
       "version_major": 2,
       "version_minor": 0
      },
      "text/plain": [
       "VBox()"
      ]
     },
     "metadata": {},
     "output_type": "display_data"
    },
    {
     "name": "stdout",
     "output_type": "stream",
     "text": [
      "Negative Class Center:\n",
      "\n",
      " R1TQT3UD1NYPEF: the makers of it had a great opportunity to tell the story of the bible.\n",
      "\n",
      "\n",
      "10 closest neighbours:\n",
      "\n",
      "R2BOHBJN6W1FFO: i have heard that it was created to introduce people into the bible.\n",
      "R2TYF4KR0I67D5: good bible story books are really inspired by the bible.\n",
      "R2TYF4KR0I67D5: they should have done the screenplay off a really accurate bible story book(s) and then went from there, filling in the lose ends(other parts that they wanted to add)with the bible.\n",
      "R3TPP75ZVB83FE: the bible?\n",
      "RFHUIBNG40GHX: this is the bible!\n",
      "R1S1GCV6NJM37Q: the writers should have read the bible before they started butchering the story that they obviously thought they could improve upon.\n",
      "R3021YB26T5Q0N: this was called the bible, not most of the bible, and the last time i looked the book of revelation was one of the most important books in the bible.\n",
      "RM3GHVBLVWL5: this was the worst recreation of the bible known to man!\n",
      "R149PWP0UVY4KY: a simple reading of the bible would show that just the first disk of the bible series is a politically correct and unfaithful interpretation of the bible.\n",
      "R3TPZWJIL4E8VR: the bible covers only ten books of the bible."
     ]
    }
   ],
   "source": [
    "neg_sent_map = neg_id.map(lambda x: x[1]).zip(neg_class_map).collectAsMap()\n",
    "print('Negative Class Center:\\n\\n',neg_sent_map[neg_Class_Center_index][1]+\":\",neg_sent_map[neg_Class_Center_index][0])\n",
    "print('\\n\\n10 closest neighbours:\\n')\n",
    "for i in range(10):\n",
    "    print(neg_sent_map[neg_ten_closest_neighbours[i][0][1]][1]+\":\",neg_sent_map[neg_ten_closest_neighbours[i][0][1]][0])"
   ]
  },
  {
   "cell_type": "code",
   "execution_count": null,
   "metadata": {},
   "outputs": [],
   "source": []
  },
  {
   "cell_type": "markdown",
   "metadata": {},
   "source": [
    "# Stage Four: Similarity analysis with Spark supported Feature Extractors"
   ]
  },
  {
   "cell_type": "code",
   "execution_count": 38,
   "metadata": {},
   "outputs": [
    {
     "data": {
      "application/vnd.jupyter.widget-view+json": {
       "model_id": "b71793d5b19e436789039ae7269d54cb",
       "version_major": 2,
       "version_minor": 0
      },
      "text/plain": [
       "VBox()"
      ]
     },
     "metadata": {},
     "output_type": "display_data"
    }
   ],
   "source": [
    "def Cos_dis_word2vec(x):\n",
    "    a = x[0][0]\n",
    "    a_id = x[0][1]\n",
    "    b = x[1][0]\n",
    "    b_id = x[1][1]\n",
    "\n",
    "    return ((a_id,b_id), 1 - a.dot(b)/a.norm(2)/b.norm(2))"
   ]
  },
  {
   "cell_type": "markdown",
   "metadata": {},
   "source": [
    "##### Positive Class"
   ]
  },
  {
   "cell_type": "code",
   "execution_count": 39,
   "metadata": {},
   "outputs": [
    {
     "data": {
      "application/vnd.jupyter.widget-view+json": {
       "model_id": "6e9b197b4f7e4b488248e56078f3ee31",
       "version_major": 2,
       "version_minor": 0
      },
      "text/plain": [
       "VBox()"
      ]
     },
     "metadata": {},
     "output_type": "display_data"
    },
    {
     "name": "stdout",
     "output_type": "stream",
     "text": [
      "Word2Vec Closeness is: 0.9999721382979777\n",
      "Positive Class Center:\n",
      "\n",
      " R1KFSV90H1M9I5: this movie is excellent.\n",
      "\n",
      "\n",
      "10 closest neighbours:\n",
      "\n",
      "R1HJUXE8B7WWUK: awesome series if you have not boughten this series then...what are you waiting for?\n",
      "R2N3XIWU4JID2K: this covers all things of historical fact.\n",
      "R34GF5Z93B8ELU: it's a great summary that capture your attention.\n",
      "R1MBWS4LYK4GY6: very good.\n",
      "R35AWA5YDSETP: very good.\n",
      "RECGRWZQKIN56: very good.\n",
      "R16S08JK4654YK: very good.\n",
      "R2HVMVVIA2Z2PS: in a lot of areas it is not always accurate with scripture, but overall, pretty good.\n",
      "R1821CPKEEDAMU: a basic for everyone to get their feet wet to be inspired to read the entire bible.\n",
      "R19LT7UG961QVY: humble and compassionate but authoritative."
     ]
    }
   ],
   "source": [
    "pos_class_df = spark.createDataFrame(pos_class_rdd.map(lambda x: [x]), ArrayType(StringType()))\n",
    "word2Vec = Word2Vec(vectorSize=300, minCount=0, inputCol=\"value\", outputCol=\"result\")\n",
    "model = word2Vec.fit(pos_class_df)\n",
    "pos_word2vec = model.transform(pos_class_df).select(\"result\").rdd.map(lambda x:x[0])\n",
    "\n",
    "pos_word2vec_id = pos_word2vec.zipWithIndex().cache()\n",
    "pos_word2vec_cartesian = pos_word2vec_id.cartesian(pos_word2vec_id).map(Cos_dis_word2vec).cache()\n",
    "\n",
    "\n",
    "pos_average_distance = pos_word2vec_cartesian \\\n",
    "                    .map(lambda v: (v[0][0], (v[1], 1))) \\\n",
    "                    .reduceByKey(lambda a,b: (a[0]+b[0], a[1]+b[1])) \\\n",
    "                    .mapValues(lambda v: v[0]/(v[1]-1)).cache()\n",
    "print('Word2Vec Closeness is:',(pos_average_distance.map(lambda x:x[1]).sum())/pos_average_distance.count())\n",
    "\n",
    "pos_Class_Center = pos_average_distance.takeOrdered(1,lambda x: x[1])\n",
    "pos_Class_Center_index = pos_Class_Center[0][0]\n",
    "pos_Class_Center_dis = pos_Class_Center[0][1]\n",
    "pos_ten_closest_neighbours = pos_word2vec_cartesian \\\n",
    "                        .filter(lambda x: ((x[0][0]==pos_Class_Center_index) and (x[0][1]!=pos_Class_Center_index))) \\\n",
    "                        .takeOrdered(10,lambda x: x[1])\n",
    "\n",
    "pos_sent_map = pos_word2vec_id.map(lambda x: x[1]).zip(pos_class_map).collectAsMap()\n",
    "print('Positive Class Center:\\n\\n',pos_sent_map[pos_Class_Center_index][1]+\":\",pos_sent_map[pos_Class_Center_index][0])\n",
    "print('\\n\\n10 closest neighbours:\\n')\n",
    "for i in range(10):\n",
    "    print(pos_sent_map[pos_ten_closest_neighbours[i][0][1]][1]+\":\",pos_sent_map[pos_ten_closest_neighbours[i][0][1]][0])"
   ]
  },
  {
   "cell_type": "markdown",
   "metadata": {},
   "source": [
    "##### Negative Class"
   ]
  },
  {
   "cell_type": "code",
   "execution_count": 40,
   "metadata": {
    "scrolled": true
   },
   "outputs": [
    {
     "data": {
      "application/vnd.jupyter.widget-view+json": {
       "model_id": "06a3ce7664e748b2a8964750c6fd2c06",
       "version_major": 2,
       "version_minor": 0
      },
      "text/plain": [
       "VBox()"
      ]
     },
     "metadata": {},
     "output_type": "display_data"
    }
   ],
   "source": [
    "neg_class_df = spark.createDataFrame(neg_class_rdd.map(lambda x: [x]), ArrayType(StringType()))\n",
    "# neg_class_df.show()\n",
    "word2Vec = Word2Vec(vectorSize=300, minCount=0, inputCol=\"value\", outputCol=\"result\")\n",
    "model = word2Vec.fit(neg_class_df)\n",
    "neg_word2vec = model.transform(neg_class_df).select(\"result\").rdd.map(lambda x:x[0])\n",
    "\n",
    "neg_word2vec_id = neg_word2vec.zipWithIndex().cache()\n",
    "neg_word2vec_cartesian = neg_word2vec_id.cartesian(neg_word2vec_id).map(Cos_dis_word2vec).cache()"
   ]
  },
  {
   "cell_type": "code",
   "execution_count": 41,
   "metadata": {},
   "outputs": [
    {
     "data": {
      "application/vnd.jupyter.widget-view+json": {
       "model_id": "474b0c8505a94ea2a2bfe426d65e0593",
       "version_major": 2,
       "version_minor": 0
      },
      "text/plain": [
       "VBox()"
      ]
     },
     "metadata": {},
     "output_type": "display_data"
    }
   ],
   "source": [
    "# hashingTF = HashingTF(1000)\n",
    "# neg_tf = hashingTF.transform(neg_class_rdd)\n",
    "# neg_tf.cache()\n",
    "# neg_idf = IDF(minDocFreq=1).fit(neg_tf)\n",
    "# neg_tfidf = neg_idf.transform(neg_tf)\n",
    "# neg_tfidf.take(3)\n",
    "#neg_tfidf_id = neg_tfidf.zipWithIndex().cache()\n",
    "#neg_tfidf_cartesian = neg_tfidf_id.cartesian(neg_tfidf_id).map(Cos_dis_tfidf).cache()"
   ]
  },
  {
   "cell_type": "code",
   "execution_count": 42,
   "metadata": {},
   "outputs": [
    {
     "data": {
      "application/vnd.jupyter.widget-view+json": {
       "model_id": "f48c9c791880479e94449712142590e8",
       "version_major": 2,
       "version_minor": 0
      },
      "text/plain": [
       "VBox()"
      ]
     },
     "metadata": {},
     "output_type": "display_data"
    },
    {
     "name": "stdout",
     "output_type": "stream",
     "text": [
      "Word2Vec Closeness is: 0.9999876696151025\n",
      "Negative Class Center:\n",
      "\n",
      " RQZT7L2KEGVJN: when i saw, the \\\\\"leaking\\\\\" ark, i knew this did not bode well.\n",
      "\n",
      "\n",
      "10 closest neighbours:\n",
      "\n",
      "RB52RK9IVGUH6: many details of the individual stories were altered or embellished for, i suppose, dramatic effect, thus the need for a disclaimer at the beginning of each episode, always a warning that the content will be altered beyond the approval of many.\n",
      "RPNUUWLSPFJTU: horrible!\n",
      "R2IWBY39860T88: no, now it's reality shows and blood-and-guts vikings and romans and swamp people and heaven knows what's next!\n",
      "R1OXSBNJ4VDZF3: the writers have not only taken so many liberties with the bible to make this movie &#34;agreeable&#34; to a new audience, but it also changes and/or leaves out so much important aspects of the bible that it shouldn't even be sold in christian book stores.\n",
      "RRHOQWC1P180Y: in this series, jesus heals a bunch of people and draws a lot of attention to himself.\n",
      "R20FT0D9JP1CJD: he had hair like lambs wool, skin like brass burnt in an oven( anyone who has burnt brass in an oven knows it is black, not brown, or white or &#34;light-skinned&#34;).\n",
      "RDIHIC8TAYH8K: i've seen some of their past documentaries pertaing to scripture, but never was really impressed.\n",
      "R1J4FT2BUVEL0G: um, maybe not.\n",
      "R3PY3UV1CJPD5T: read the bible, don't rely on some movie to reveal the truth to you.\n",
      "RZ2GQ5E0F4C1L: you changed critical facts in many of the stories i saw...and for what reason....isnt the truth good enough...its the truth that sets us free...we do not need to add hollywood details to gods story...so sorry this went so greatly anticipated...a huge disappointment"
     ]
    }
   ],
   "source": [
    "neg_average_distance = neg_word2vec_cartesian \\\n",
    "                    .map(lambda v: (v[0][0], (v[1], 1))) \\\n",
    "                    .reduceByKey(lambda a,b: (a[0]+b[0], a[1]+b[1])) \\\n",
    "                    .mapValues(lambda v: v[0]/(v[1]-1)).cache()\n",
    "print('Word2Vec Closeness is:',(neg_average_distance.map(lambda x:x[1]).sum())/neg_average_distance.count())\n",
    "\n",
    "neg_Class_Center = neg_average_distance.takeOrdered(1,lambda x: x[1])\n",
    "neg_Class_Center_index = neg_Class_Center[0][0]\n",
    "neg_Class_Center_dis = neg_Class_Center[0][1]\n",
    "neg_ten_closest_neighbours = neg_word2vec_cartesian \\\n",
    "                        .filter(lambda x: ((x[0][0]==neg_Class_Center_index) and (x[0][1]!=neg_Class_Center_index))) \\\n",
    "                        .takeOrdered(10,lambda x: x[1])\n",
    "\n",
    "neg_sent_map = neg_word2vec_id.map(lambda x: x[1]).zip(neg_class_map).collectAsMap()\n",
    "print('Negative Class Center:\\n\\n',neg_sent_map[neg_Class_Center_index][1]+\":\",neg_sent_map[neg_Class_Center_index][0])\n",
    "print('\\n\\n10 closest neighbours:\\n')\n",
    "for i in range(10):\n",
    "    print(neg_sent_map[neg_ten_closest_neighbours[i][0][1]][1]+\":\",neg_sent_map[neg_ten_closest_neighbours[i][0][1]][0])"
   ]
  },
  {
   "cell_type": "code",
   "execution_count": null,
   "metadata": {},
   "outputs": [],
   "source": []
  }
 ],
 "metadata": {
  "kernelspec": {
   "display_name": "PySpark",
   "language": "",
   "name": "pysparkkernel"
  },
  "language_info": {
   "codemirror_mode": {
    "name": "python",
    "version": 2
   },
   "mimetype": "text/x-python",
   "name": "pyspark",
   "pygments_lexer": "python2"
  }
 },
 "nbformat": 4,
 "nbformat_minor": 2
}
